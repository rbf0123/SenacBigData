{
  "nbformat": 4,
  "nbformat_minor": 0,
  "metadata": {
    "colab": {
      "provenance": [],
      "authorship_tag": "ABX9TyNBm2zj1rQl3AY8fErFzjyi",
      "include_colab_link": true
    },
    "kernelspec": {
      "name": "python3",
      "display_name": "Python 3"
    },
    "language_info": {
      "name": "python"
    }
  },
  "cells": [
    {
      "cell_type": "markdown",
      "metadata": {
        "id": "view-in-github",
        "colab_type": "text"
      },
      "source": [
        "<a href=\"https://colab.research.google.com/github/rbf0123/SenacBigData/blob/master/Untitled2.ipynb\" target=\"_parent\"><img src=\"https://colab.research.google.com/assets/colab-badge.svg\" alt=\"Open In Colab\"/></a>"
      ]
    },
    {
      "cell_type": "code",
      "execution_count": 2,
      "metadata": {
        "colab": {
          "base_uri": "https://localhost:8080/"
        },
        "id": "O6EUaa_1u2oM",
        "outputId": "bc09d90e-2eaf-4a72-cecf-fd87d0b33c57"
      },
      "outputs": [
        {
          "output_type": "stream",
          "name": "stdout",
          "text": [
            "Digite o valor:  26\n",
            "Digite a base 2,3,4...5\n",
            "O resultado é:  11881376.0\n"
          ]
        }
      ],
      "source": [
        "# Inicio\n",
        "# importar a biblioteca e seus recursos\n",
        "import math\n",
        "\n",
        "# Declarar as variáveis\n",
        "valor : int # receberá o valor do usuário\n",
        "base  : int # receberá a base do expoente\n",
        "\n",
        "# Recebendo as entradas de valores\n",
        "valor = int (input(\"Digite o valor:  \"))\n",
        "base = int (input(\"Digite a base 2,3,4...\"))\n",
        "\n",
        "#Função que calcula número elevado a potência (base)\n",
        "def calc_exp( x, y) :\n",
        "    resultado = math.pow(x,y) # chama função pow da biblioteca math\n",
        "    print(\"O resultado é: \", resultado)\n",
        "\n",
        "# Chama a função acima que retorna o print do resultado\n",
        "calc_exp(valor, base)\n",
        "\n",
        "#Fim"
      ]
    }
  ]
}