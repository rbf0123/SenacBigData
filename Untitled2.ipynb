{
  "nbformat": 4,
  "nbformat_minor": 0,
  "metadata": {
    "colab": {
      "provenance": [],
      "authorship_tag": "ABX9TyOU8W8cFJ7IewXxx24Nw7wz",
      "include_colab_link": true
    },
    "kernelspec": {
      "name": "python3",
      "display_name": "Python 3"
    },
    "language_info": {
      "name": "python"
    }
  },
  "cells": [
    {
      "cell_type": "markdown",
      "metadata": {
        "id": "view-in-github",
        "colab_type": "text"
      },
      "source": [
        "<a href=\"https://colab.research.google.com/github/rbf0123/SenacBigData/blob/master/Untitled2.ipynb\" target=\"_parent\"><img src=\"https://colab.research.google.com/assets/colab-badge.svg\" alt=\"Open In Colab\"/></a>"
      ]
    },
    {
      "cell_type": "code",
      "execution_count": null,
      "metadata": {
        "colab": {
          "base_uri": "https://localhost:8080/"
        },
        "id": "O6EUaa_1u2oM",
        "outputId": "bc09d90e-2eaf-4a72-cecf-fd87d0b33c57"
      },
      "outputs": [
        {
          "output_type": "stream",
          "name": "stdout",
          "text": [
            "Digite o valor:  26\n",
            "Digite a base 2,3,4...5\n",
            "O resultado é:  11881376.0\n"
          ]
        }
      ],
      "source": [
        "# Inicio\n",
        "# importar a biblioteca e seus recursos\n",
        "import math\n",
        "\n",
        "# Declarar as variáveis\n",
        "valor : int # receberá o valor do usuário\n",
        "base  : int # receberá a base do expoente\n",
        "\n",
        "# Recebendo as entradas de valores\n",
        "valor = int (input(\"Digite o valor:  \"))\n",
        "base = int (input(\"Digite a base 2,3,4...\"))\n",
        "\n",
        "#Função que calcula número elevado a potência (base)\n",
        "def calc_exp( x, y) :\n",
        "    resultado = math.pow(x,y) # chama função pow da biblioteca math\n",
        "    print(\"O resultado é: \", resultado)\n",
        "\n",
        "# Chama a função acima que retorna o print do resultado\n",
        "calc_exp(valor, base)\n",
        "\n",
        "#Fim"
      ]
    },
    {
      "cell_type": "code",
      "source": [
        "# Declarar as variáveis\n",
        "salario_atual : float\n",
        "salario_novo :float\n",
        "qtd_func: int\n",
        "cantador: int\n",
        "\n",
        "# Criar a função de correção salarial\n",
        "def calc_salario(sa,perc):\n",
        "  novo_sal = round(sa * (1+perc), 2)\n",
        "  return novo_sal\n",
        "\n",
        "# Ao iniciar pedimos o qtd de funcionários\n",
        "qtd_func = int (input('Digite o núm. de funcionários:  '))\n",
        "\n",
        "# Criamos o loop usando o \"for\", já que sabemos a qtd de funcinários\n",
        "for contador in range(qtd_func):\n",
        "\n",
        "    # Recebe o valor do salário do funcionários\n",
        "    salario_atual  = float(input('Digite o valor do salário atual:  '))\n",
        "\n",
        "\n",
        "    # Recebe o percentual em decimal\n",
        "    percentual  = float(input('Digite o percentual em decimal:  '))\n",
        "\n",
        "    # Fazer o processamento - calcular a correção salarial\n",
        "    salario_novo = calc_salario ( salario_atual,percentual )\n",
        "\n",
        "    # Imprimir os resultados do salário corrigido\n",
        "    print(\"Salario Corrigido: \", salario_novo)\n",
        "\n",
        "# Mensagem de despedida\n",
        "print(\"Atualização salarial concluída!\")\n",
        "\n",
        "#Fim\n"
      ],
      "metadata": {
        "id": "NPdn3a8Y1Dnl",
        "outputId": "ce3dd851-0524-4f7b-fe41-7951f20591ae",
        "colab": {
          "base_uri": "https://localhost:8080/"
        }
      },
      "execution_count": 8,
      "outputs": [
        {
          "output_type": "stream",
          "name": "stdout",
          "text": [
            "Digite o núm. de funcionários:  1\n",
            "Digite o valor do salário atual:  1525\n",
            "Digite o percentual em decimal:  0.15\n",
            "Salario Corrigido:  1753.75\n",
            "Atualização salarial concluída!\n"
          ]
        }
      ]
    }
  ]
}